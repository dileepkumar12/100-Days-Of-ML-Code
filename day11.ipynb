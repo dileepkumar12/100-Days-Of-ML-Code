{
 "cells": [
  {
   "cell_type": "code",
   "execution_count": 1,
   "metadata": {},
   "outputs": [],
   "source": [
    "import pandas as pd\n",
    "df_train = pd.read_csv('datasets/Titanic/train.csv')\n",
    "df_test = pd.read_csv('datasets/Titanic/test.csv')"
   ]
  },
  {
   "cell_type": "code",
   "execution_count": 2,
   "metadata": {},
   "outputs": [],
   "source": [
    "from sklearn.preprocessing import Imputer\n",
    "from sklearn.preprocessing import LabelEncoder, OneHotEncoder\n",
    "from sklearn.model_selection import train_test_split\n",
    "\n",
    "def preprocess(X):    \n",
    "    for label in [1, 2, 6, 8, 9]:\n",
    "        X[:, label] = LabelEncoder().fit_transform(X[:, label].astype(str))\n",
    "    X = Imputer(missing_values=\"NaN\", strategy=\"most_frequent\").fit_transform(X)\n",
    "#     X = OneHotEncoder(categorical_features=[1, 2, 6, 8, 9]).fit_transform(X).toarray()\n",
    "    return X\n",
    "\n",
    "X, Y = df_train.iloc[:, 2:].values, df_train.iloc[:, 1].values\n",
    "X_test = df_test.iloc[:, 1:].values\n",
    "\n",
    "X = preprocess(X)\n",
    "X_test = preprocess(X_test)\n",
    "\n",
    "X_train, X_dev, Y_train, Y_dev = train_test_split(X, Y, test_size=0.1, random_state=1234)"
   ]
  },
  {
   "cell_type": "code",
   "execution_count": 3,
   "metadata": {},
   "outputs": [],
   "source": [
    "from sklearn.preprocessing import StandardScaler\n",
    "\n",
    "sc = StandardScaler()\n",
    "X_train = sc.fit_transform(X_train)\n",
    "X_dev = sc.transform(X_dev)\n",
    "X_test = sc.transform(X_test)"
   ]
  },
  {
   "cell_type": "code",
   "execution_count": 4,
   "metadata": {},
   "outputs": [],
   "source": [
    "from sklearn.neighbors import KNeighborsClassifier\n",
    "from sklearn.metrics import accuracy_score\n",
    "\n",
    "max_accuracy = 0\n",
    "max_classifier = None\n",
    "for n in range(1, 51):\n",
    "    classifier = KNeighborsClassifier(n_neighbors=n, weights='distance')\n",
    "    classifier = classifier.fit(X_train, Y_train)\n",
    "    \n",
    "    accuray = accuracy_score(Y_dev, classifier.predict(X_dev))\n",
    "    if  accuray > max_accuracy:\n",
    "        max_accuracy = accuray\n",
    "        max_classifier = classifier"
   ]
  },
  {
   "cell_type": "code",
   "execution_count": 5,
   "metadata": {},
   "outputs": [],
   "source": [
    "def write_csv(Y_test, filename):\n",
    "    with open(filename, 'w') as f:\n",
    "        f.write('PassengerId,Survived\\n')\n",
    "        i = 892\n",
    "        for element in Y_test:\n",
    "            f.write('{},{}\\n'.format(i, element))\n",
    "            i += 1\n",
    "            \n",
    "write_csv(max_classifier.predict(X_test), 'datasets/Titanic/result_knn.csv')"
   ]
  },
  {
   "cell_type": "code",
   "execution_count": 6,
   "metadata": {},
   "outputs": [
    {
     "data": {
      "text/plain": [
       "KNeighborsClassifier(algorithm='auto', leaf_size=30, metric='minkowski',\n",
       "           metric_params=None, n_jobs=1, n_neighbors=20, p=2,\n",
       "           weights='distance')"
      ]
     },
     "execution_count": 6,
     "metadata": {},
     "output_type": "execute_result"
    }
   ],
   "source": [
    "max_classifier"
   ]
  },
  {
   "cell_type": "code",
   "execution_count": 7,
   "metadata": {},
   "outputs": [
    {
     "name": "stdout",
     "output_type": "stream",
     "text": [
      "Successfully submitted to Titanic: Machine Learning from Disaster"
     ]
    }
   ],
   "source": [
    "!kaggle competitions submit -c titanic -f datasets/Titanic/result_knn.csv -m \"basic knn\""
   ]
  },
  {
   "cell_type": "code",
   "execution_count": null,
   "metadata": {},
   "outputs": [],
   "source": []
  }
 ],
 "metadata": {
  "kernelspec": {
   "display_name": "Python 3",
   "language": "python",
   "name": "python3"
  },
  "language_info": {
   "codemirror_mode": {
    "name": "ipython",
    "version": 3
   },
   "file_extension": ".py",
   "mimetype": "text/x-python",
   "name": "python",
   "nbconvert_exporter": "python",
   "pygments_lexer": "ipython3",
   "version": "3.7.0"
  }
 },
 "nbformat": 4,
 "nbformat_minor": 2
}
